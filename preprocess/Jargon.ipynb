{
 "cells": [
  {
   "cell_type": "code",
   "execution_count": 1,
   "metadata": {},
   "outputs": [
    {
     "name": "stdout",
     "output_type": "stream",
     "text": [
      "GK - Goalkeepers\n",
      "DF - Defenders\n",
      "MF - Midfielders\n",
      "FW - Forwards\n",
      "FB - Fullbacks\n",
      "LB - Left Backs\n",
      "RB - Right Backs\n",
      "CB - Center Backs\n",
      "DM - Defensive Midfielders\n",
      "CM - Central Midfielders\n",
      "LM - Left Midfielders\n",
      "RM - Right Midfielders\n",
      "WM - Wide Midfielders\n",
      "LW - Left Wingers\n",
      "RW - Right Wingers\n",
      "AM - Attacking Midfielders\n",
      "\n"
     ]
    }
   ],
   "source": [
    "#Position Abbreviation\n",
    "import requests\n",
    "from bs4 import BeautifulSoup\n",
    "url = \"https://fbref.com/en/matches/3adf2aa7/Brentford-Arsenal-August-13-2021-Premier-League\" #random game\n",
    "page = requests.get(url)\n",
    "soup = BeautifulSoup(page.content,\"lxml\")\n",
    "print(soup.find(\"th\",attrs={\"data-stat\":\"position\"}).get(\"data-tip\").replace(\"<br>\", \"\\n\")[70:])"
   ]
  }
 ],
 "metadata": {
  "kernelspec": {
   "display_name": "base",
   "language": "python",
   "name": "python3"
  },
  "language_info": {
   "codemirror_mode": {
    "name": "ipython",
    "version": 3
   },
   "file_extension": ".py",
   "mimetype": "text/x-python",
   "name": "python",
   "nbconvert_exporter": "python",
   "pygments_lexer": "ipython3",
   "version": "3.9.13"
  },
  "orig_nbformat": 4
 },
 "nbformat": 4,
 "nbformat_minor": 2
}
