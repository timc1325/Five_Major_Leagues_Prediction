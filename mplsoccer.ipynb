{
 "cells": [
  {
   "cell_type": "code",
   "execution_count": 121,
   "metadata": {},
   "outputs": [
    {
     "data": {
      "text/plain": [
       "4"
      ]
     },
     "execution_count": 121,
     "metadata": {},
     "output_type": "execute_result"
    }
   ],
   "source": [
    "class Solution:\n",
    "    def numSubmatrixSumTarget(self, matrix: list[list[int]], target: int) -> int:\n",
    "        result = 0\n",
    "        m, n = len(matrix), len(matrix[0])\n",
    "        \n",
    "        for i in range(m):\n",
    "            for j in range(1, n):\n",
    "                matrix[i][j] += matrix[i][j-1]  # prefix sum  \n",
    "        \n",
    "        #for each increasing column pair, find the subarray of row sum with target\n",
    "        for i in range(n):\n",
    "            for j in range(i, n):\n",
    "                count = {0:1} #we want differnece to be 0\n",
    "                cur = 0\n",
    "                for k in range(m):\n",
    "                    cur += matrix[k][j] - (matrix[k][i-1] if i > 0 else 0)\n",
    "                    result += count.get(cur - target, 0) # find previous row sum which then can beleted from above to form target\n",
    "                    count[cur] = count.get(cur, 0) + 1\n",
    "        return result\n",
    "    \n",
    "\n",
    "                "
   ]
  },
  {
   "cell_type": "code",
   "execution_count": 30,
   "metadata": {},
   "outputs": [
    {
     "data": {
      "text/plain": [
       "array([[9, 4, 0, 4, 0, 2, 1],\n",
       "       [1, 5, 1, 4, 3, 4, 4]])"
      ]
     },
     "execution_count": 30,
     "metadata": {},
     "output_type": "execute_result"
    }
   ],
   "source": [
    "import numpy as np\n",
    "a = [1,5,1,4,3,4,4] # First column\n",
    "b = [9,4,0,4,0,2,1] # Second column\n",
    "c = np.array([b,a])\n",
    "c\n"
   ]
  }
 ],
 "metadata": {
  "kernelspec": {
   "display_name": "Python 3",
   "language": "python",
   "name": "python3"
  },
  "language_info": {
   "codemirror_mode": {
    "name": "ipython",
    "version": 3
   },
   "file_extension": ".py",
   "mimetype": "text/x-python",
   "name": "python",
   "nbconvert_exporter": "python",
   "pygments_lexer": "ipython3",
   "version": "3.10.9"
  }
 },
 "nbformat": 4,
 "nbformat_minor": 2
}
